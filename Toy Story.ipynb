{
 "cells": [
  {
   "cell_type": "markdown",
   "id": "75a8f8be",
   "metadata": {},
   "source": [
    "# Movie Comparing Project\n",
    "Welcome to this project!\n",
    "\n",
    "The purpose of this project was to process scripts for different movies to be able to compare them based on a set of different metrics. I've writen this Jupyter Notebook file in a tutorial style format so please feel free to follow along to see how to impelement similar NLP pipelines in your own projects in the future :D. \n",
    "\n",
    "Movie scripts used in this code are are aquired from [Fandom.com](https://www.fandom.com/)"
   ]
  },
  {
   "cell_type": "code",
   "execution_count": 15,
   "id": "d16a5427",
   "metadata": {},
   "outputs": [],
   "source": [
    "import requests\n",
    "from bs4 import BeautifulSoup\n",
    "import re\n",
    "import pandas as pd\n",
    "import spacy\n",
    "from spacytextblob.spacytextblob import SpacyTextBlob\n",
    "import matplotlib as plt"
   ]
  },
  {
   "cell_type": "code",
   "execution_count": 16,
   "id": "f9ff8551",
   "metadata": {},
   "outputs": [],
   "source": [
    "# Requesting the scripts\n",
    "movie_names = ['Toy Story', 'Toy Story 2', 'Toy Story 3', 'Toy Story 4']\n",
    "movie_list = ['Toy_Story', 'Toy_Story_2', 'Toy_Story_3', 'Toy_Story_4']\n",
    "movie_length = [81, 95, 103, 100] # In minutes\n",
    "\n",
    "soups = []\n",
    "for movie in movie_list:\n",
    "    url = 'https://movies.fandom.com/wiki/' + movie + '/Transcript'\n",
    "    result = requests.get(url).text\n",
    "    soups.append(BeautifulSoup(result, \"html.parser\"))"
   ]
  },
  {
   "cell_type": "code",
   "execution_count": 17,
   "id": "bb02ea41",
   "metadata": {},
   "outputs": [],
   "source": [
    "# First cleaning round \n",
    "def cleaning_round_1(soup):\n",
    "    # Removing the unwanted tags from the soup\n",
    "    classes = ['toclevel-1 tocsection-1']\n",
    "    tags = ['h2', 'h3', 'b']\n",
    "    for class_ in classes:\n",
    "        for T_of_C in soup.find_all(class_=class_):\n",
    "            T_of_C.extract()\n",
    "\n",
    "    for tag in tags:\n",
    "        for removeable in soup.find_all(tag):\n",
    "            removeable.extract()\n",
    "\n",
    "    # Cleaning up the soup for punctuations and removing action brackets from the script\n",
    "    script = soup.find(class_='mw-parser-output').text\n",
    "    script = re.sub(\"[\\(\\[].*?[\\)\\]]\", \"\", script)\n",
    "    script = re.sub('\\n\\n', \" \", script)\n",
    "    script = re.sub('\\n', \" \", script)\n",
    "    script = re.sub('\\'', \"\", script)\n",
    "    script = re.sub(': ', \"\", script)\n",
    "    script = re.sub(' +', ' ', script) \n",
    "    return script\n",
    "\n",
    "scripts_clean_round_1 = list(map(cleaning_round_1, soups))\n",
    "\n",
    "df_scripts = pd.DataFrame(scripts_clean_round_1, index=movie_list, columns=['Script'])\n",
    "df_scripts['Movie Name'] = movie_names"
   ]
  },
  {
   "cell_type": "code",
   "execution_count": 18,
   "id": "d8d95787",
   "metadata": {},
   "outputs": [
    {
     "data": {
      "text/html": [
       "<div>\n",
       "<style scoped>\n",
       "    .dataframe tbody tr th:only-of-type {\n",
       "        vertical-align: middle;\n",
       "    }\n",
       "\n",
       "    .dataframe tbody tr th {\n",
       "        vertical-align: top;\n",
       "    }\n",
       "\n",
       "    .dataframe thead th {\n",
       "        text-align: right;\n",
       "    }\n",
       "</style>\n",
       "<table border=\"1\" class=\"dataframe\">\n",
       "  <thead>\n",
       "    <tr style=\"text-align: right;\">\n",
       "      <th></th>\n",
       "      <th>Script</th>\n",
       "      <th>Movie Name</th>\n",
       "    </tr>\n",
       "  </thead>\n",
       "  <tbody>\n",
       "    <tr>\n",
       "      <th>Toy_Story</th>\n",
       "      <td>Alright, everyone! This is a stick-up! Dont a...</td>\n",
       "      <td>Toy Story</td>\n",
       "    </tr>\n",
       "    <tr>\n",
       "      <th>Toy_Story_2</th>\n",
       "      <td>ZOO-OO-OOM! Buzz Lightyear Mission log. All s...</td>\n",
       "      <td>Toy Story 2</td>\n",
       "    </tr>\n",
       "    <tr>\n",
       "      <th>Toy_Story_3</th>\n",
       "      <td>Money, money, money. Bart is the name. Call m...</td>\n",
       "      <td>Toy Story 3</td>\n",
       "    </tr>\n",
       "    <tr>\n",
       "      <th>Toy_Story_4</th>\n",
       "      <td>Whoa! Its raining cats and dogs out there! I ...</td>\n",
       "      <td>Toy Story 4</td>\n",
       "    </tr>\n",
       "  </tbody>\n",
       "</table>\n",
       "</div>"
      ],
      "text/plain": [
       "                                                        Script   Movie Name\n",
       "Toy_Story     Alright, everyone! This is a stick-up! Dont a...    Toy Story\n",
       "Toy_Story_2   ZOO-OO-OOM! Buzz Lightyear Mission log. All s...  Toy Story 2\n",
       "Toy_Story_3   Money, money, money. Bart is the name. Call m...  Toy Story 3\n",
       "Toy_Story_4   Whoa! Its raining cats and dogs out there! I ...  Toy Story 4"
      ]
     },
     "execution_count": 18,
     "metadata": {},
     "output_type": "execute_result"
    }
   ],
   "source": [
    "# Checking if everything is properly loaded\n",
    "df_scripts"
   ]
  },
  {
   "cell_type": "code",
   "execution_count": 19,
   "id": "6d54d4ec",
   "metadata": {},
   "outputs": [
    {
     "data": {
      "text/plain": [
       "' Alright, everyone! This is a stick-up! Dont anybody move! Now empty that safe! Money, money, money! Stop it. Stop it, you mean old potato. Quiet, Bo Peep! Or your sheep get run over! Help! Baa! Help us! Oh, no! Not my sheep! Somebody do something! Reach for the sky. Oh, no. Sheriff Woody. Im here to stop you, One-Eye Bart. Doh! How did you know it was me? Are you gonna come quietly? You cant touch me, sheriff. Ive brought my attack dog, with a built in forcefield! Well, I brought my dinosaur who eats forcefield dogs! Youre going to jail, Bart. Say goodbye to the wife and tatertots. You saved the day again, Woody. Youre my favorite deputy. Come on, lets round up the cattle. Round them up, Cowboy. Hey, cowboy. Come on, Woody. Whoa! Score! Wow! Cool! What do you think? Oh, this looks great, Mom! Okay, birthday boy. We saw it at the store, I asked you for it! One, two- Four. Yeah, I think thats gonna be enough. Can we leave this up until we move? Sure, we can leave it. Yeah. Now go get Molly. Your friends are going to be here any minute. Okay. Its party time, Woody. Yee-haw! Howdy, little lady. Somebodys poisoned the waterhole. Come on, Molly. Oh, youre getting heavy. See you later, Woody. Pull my string, the birthday partys today? Okay, everyone. Coast is clear. Ages 3 and up. Its on my box. Ages 3 and up. Im not supposed to be babysitting Princess Drool. Hey, Hamm. Look, Im Picasso! I dont get it. You uncultured swine! Whatre you lookin at, ya hockey puck? Hey, Sarge, have you seen Slinky? Sir! No, sir! OK. Hey, thank you. At ease. Hey, uh, Slinky? Right here, Woody. Im red this time. No. Slink..... Oh, well, all right. You can be red if you want. N-Not now, Slink. I got some bad news. Bad news?! Ssssh! Just gather everyone up for a staff meeting and be happy. Got it. Be happy. Ha, ha, ha, ha, ha. Staff meeting, everybody! Snake, Robot, podium duty. Hey! Hey, Etch. Draw! Oh! Got me again. Etch, youve been working on that draw. Fastest knobs in the West. Got a staff meeting you guys. Come on. Lets go. Now, where is that... Oh. Hey, who moved my doodle pad way over here? Roaaaaar! Howre you doin, Rex? Were you scared? Tell me honestly. I was close to being scared that time. Im going for fearsome here, but I just dont feel it. I think Im just coming across off as annoying. Ow! Oh, hi, Bo. Hi. I wanted to thank you, Woody, for saving my flock. Oh, hey, it was, uh, nothin. What do you say I get someone else to watch the sheep tonight? Oh, yeah! Remember, Im just a couple of blocks away. Come on, come on. Smaller toys up front. Hey, Woody, guys, come on. Oh, thanks, Mike. OK..... Whoa, whoa. Step back. For crying out loud. Thank you. Hello? Check. That better? Great. Everybody hear me? Up on the shelf, can you hear me? Great. OK. First item todayUh... oh, yeah. Has everyone picked a moving buddy? What? Moving buddy? You cant be serious. I didnt know we were supposed to have one already. Do we have to hold hands? You guys think this is a big joke. Weve only got one week left before the move. I dont want any toys left behind. A moving buddy. If you dont have one, get one! All right, next. Uh, oh, yes. Tuesday nights plastic corrosion awareness meeting was, I think, a big success. And we wanna thank Mr Spell for putting that on for us. Thank you, Mr Spell. Youre welcome. OK. Uh, oh, yes. One, uh, minor note here. Andys birthday party has been moved to today. What do you mean the partys today? His birthdays not until next week! Whats goin on down there? Is his mom losin her marbles? Well, obviously she wanted to have the party before the move. Im not worried. You shouldnt be worried. Of course Woody aint worried. Hes been Andys favourite since kindergarten. Hey, hey. Come on, Potato Head. If Woody says its all right then, well, darn it, its good enough for me. Woody has never steered us wrong before. Come on, guys. Every Christmas and birthday, we go through this. But what if Andy gets another dinosaur, a mean one? I just dont think I could take that kind of rejection. Hey, listen, no ones getting replaced. This is Andy were talking about. It doesnt matter how much were played with. What matters is that were here for Andy when he needs us. Thats what were made for, right? Pardon me. I hate to break up the staff meeting but.... theyre here! Birthday guests at three oclock! Stay calm, everyone! Hey! Uh, meeting adjourned. Ho, boy! Will you take a look at all those presents? I cant see a thing. Yes, sir, were next months garage sale fodder for sure! Any dinosaur shaped ones?! Oh, for crying out loud. Theyre all in boxes, you idiot. Theyre getting bigger. Wait, theres a nice little one over there. Hi! Were doomed! All right! All right! If I send out the troops, will you all calm down? Yes! Yes! We promised! OK! Save your batteries. Very good, Woody. Thats using the old noodle. Sergeant, establish a recon post downstairs. Code Red! You know what to do. Yes, sir! All right, men. You heard him. Code Red! Repeat, we are at Code Red. Recon plan Charlie. Execute! Lets move! Move, move, move, move! OK, come on, kids. Everyone in the living room. Its almost time for the presents. All right, gangway, gangway. And this is how we find out what is in those presents. OK, whos hungry? Here come the chips. Ive got Cool Ranch and barbecue! Ow! What in the world..... Oh! I thought I told him to pick these up. Shouldnt they be there by now? Whats taking them so long? Hey, these guys are professionals. Theyre the best. Come on! Theyre not lying down on the job. G-G-Go on without me! J-Just go! A good soldier never leaves a man behind. OK, everybody, come on. Everybody settle down. Now, kids. Everybody..... You sit in a circle. No, Andy. Andy, you sit in the middle there. Good. And..... Which present are you gonna open first? Mine! There they are. Come in, Mother Bird. This is Alpha Bravo. This is it! This is it! Quiet, quiet! Come in, Mother Bird. All right, Andys opening the first present now. Mrs Potato Head! Mrs Potato Head! Mrs Potato Head! Hey, I can dream, cant I? The bows coming off. Hes ripping the wrapping paper. Its a.... Its..... Its a...... a lunch box. Weve got a lunch box here. A lunch box? Lunch box? For lunch. OK, second present. It appears to be..... OK, its bed sheets. Who invited that kid? Oh! Only one left. OK, were on the last present now. Last present! Its a big one. Its a.... Its a board game! Repeat, Battleship! Whew! Hallelujah! Yeah! All right! Hey, watch it! Sorry, old spud head. Mission accomplished. Well done, men. Pack it up. Were goin home. So did I tell ya? Huh? Nothing to worry about. I knew you were right all along, Woody. Never doubted ya for a second. Wait a minute. Oh! What do we have here? Wait! Turn that thing back on! Come in, Mother Bird! Come in, Mother Bird! Mom has pulled a surprise present from the closet. Andys opening it. Hes really excited about this one. Mom, what is it? Its a huge package. Oh, get outta the.... One of the kids is in the way. I cant see. Its a...... Wow! Its a what? What is it? Oh, no! Oh, ya big lizard! Now weII never know what it is! Way a go, Rex! No, Turn him around! Turn him around! Hes puttin em in backwa..... Here, youre puttin em in backwards! Plus is positive, minus is negative! Oh, let me! Lets go to my room, guys! Red alert! Red alert! Andy is coming upstairs! There! Juvenile intrusion! Repeat, resume your positions now! Andys comin, everybody! Back to your places! Hurry! Get to your places! Get to your places! Wheres my ear? Whos seen my ear? Did you see my ear? Out of my way! Here I come! Here I come! Hey, look, its lasers light up. Take that, Zurg! Quick, make a space. This is where the spaceship lands. And he does it like that. And he does a karate chop action! Come on down, guys! Its time for games! Weve got prizes! What is it? Can you see it? What the heck is up there? Woody, whos up there with ya? Woody? What are you doing under the bed? Uh, nothin. Uh, nothin. Im sure Andy was just a little excited, thats all. Too much cake and ice cream, I suppose. Its just a mistake. Well, that mistake is sitting in your spot, Woody. Have you been replaced?! Hey, what did I tel you earlier? No one is getting replaced. Now, lets all be polite and give whatever it is up a nice, big Andys-room welcome. Buzz Lightyear to Star Command. Come in, Star Command. Star Command, come in. Do you read me? Why dont they answer? My ship! Blast! ThisII take weeks to repair. Buzz Lightyear mission log, stardate 4-0-7-2. My ship has run off course en route to sector 12. Ive crash-landed on a strange planet. The impact mustve awoken me from hypersleep. Terrain seems a bit unstable. No readout yet if the air is breathable. And there seems to be no sign of intelligent life anywhere. Hello! Whoa! H-hey! Whoa, whoa, whoa, whoa, whoa! Did I frighten you? Didnt mean to. Sorry. Howdy. My name is Woody. And this is Andys room. Thats all I wanted to say. And also, there has been a bit of a mix up. This is my spot, see, the bed here. Local law enforcement. Its about time you got here. Im Buzz Lightyear, Space Ranger, Universe Protection Unit. My ship has crash-landed here by mistake. Yes, it is a mistake because, you see, the bed here is my spot. I need to repair my turbo boosters. Do you people still use fossil fuel or have you discovered crystallic fusion? Well, lets see. Weve got double-As. Watch yourself! Halt! Who goes there? Dont shoot! Its okay. friends. Do you know these life-forms? Yes! Theyre Andys toys. All right, everyone, youre clear to come up. I am Buzz Lightyear. I come in peace. Oh, Im so glad youre not a dinosaur. Wh-why, thank you! Now, thank you all for your kind welcome. Say, whats that button do? III show you. Buzz Lightyear to the rescue! Oh! Hey, Woodys got something like that. His is a pull string. Only its.... Only it sounds like a car rain over it. Oh, yeah, but not like this one. This is a quality sound system. Probably all copper wiring, huh? So, uh, where you from? Singapore? Hong Kong? Well, no. Actually, I-Im stationed up in the Gamma Quadrant of Sector 4. As a member of the elite Universe Protection Unit of the Space Ranger Corps, I protect the galaxy from the threat of invasion from the evil Emperor Zurg, sworn enemy of the Galactic Alliance. Oh,really? Im from Playskool. And Im from Mattel. Well, Im not really from Mattel. Im actually from a smaller company that was purchased in a leverage buyout. Youd think theyd never seen a new toy before. Well, sure. Look at him! Hes got more gadgets on him than a Swiss Army knife. Ah, ah, ah, ah! Please be careful. You dont want to be in the way when my laser goes off. Hey, a laser! How come you dont have a laser, Woody? Its not a laser! Its a.... Its a little light bulb that blinks. Whats with him? Laser envy. All right, thats enough! Look, were all very impressed with Andys new toy. Toy? T-O-Y. Toy. Excuse me, but I-I think the word youre searching for is Space Ranger. The word Im searching for I cant say because theres preschool toys present. Gettin kinda tense, arent ya? Uh, Mr. Lightyear, uh, now, Im curious. What does a space ranger actually do? Hes not a space ranger! He doesnt fight evil or, or shoot lasers or fly. Excuse me. Ooh! Oh, impressive wingspan! Very good! Oh, what? What? These are plastic. He cant fly. They are a tellurium-carbonic alloy, and I can fly. No, you cant. Yes, I can. You cant. Can. Cant! Cant! Cant! I tell you, I could fly around this room with my eyes closed! OK, then, Mr Light Beer, prove it. All right, then, I will. Stand back, everyone! To infinity and beyond! Can! Whoa! Oh, wow, you flew magnificently! I found my moving buddy. Thank you. Th-Thank you all. Thank you. That wasnt flying! That was... falling with style. Man, the dolls must really go for you. Can you teach me that? Golly Bob-Howdy. Oh, shut up! You know, in a couple days, everything will be just the way it was. TheyII see. TheyII see. Im still Andys favourite toy. I was on top of the world, living high It was right in my pocket I was living the life Things were just the way they should be When from out of the sky like a bomb Comes some little punk in a rocket Now all of a sudden Some strange things are happening to me Buzz Lightyear to the rescue! Strange things are happening to me Strange things Strange things are happening to me Aint no doubt about it I had friends I had lots of friends Now all my friends are gone And Im doing the best I can to carry on I had power I was respected But not any more And Ive lost the love to the one whom I adored Let me tell you about the strange things are happening to me Strange things Strange things are happening to me... Aint no doubt about it Strange things~ Strange things~ Finally! Hey, whos got my hat? Look, Im Woody. Howdy, howdy, howdy. Gimme that! Say there, Lizard and Stretchy Dog, let me show you something. It looks as though Ive been accepted into your culture. Your chief, Andy inscribed his name on me. Wow! With permanent ink too! Well, I must get back to repairing my ship. Dont let it get to you, Woody. Uh... let what? I dont, uh...... What do you mean? Who? I know Andys excited about Buzz. But you know heII always have a special place for you. Yeah, like the attic. All right, thats it! Hmm. Unidirectional bonding strip. Mr Lightyear wants more tape. Listen, Light Snack, you stay away from Andy. Hes mine, and no one is taking him from me. What are you talking about? Wheres that bonding strip? And another thingStop with this spaceman thing! Its getting on my nerves! Are you saying you wanna lodge a complaint with Star Command? Oh-ho, OK! Ooh, well, so you wanna do it the hard way, huh? Dont even think about it, cowboy. Oh, yeah, tough guy? The air isnt.... toxic. How dare you open a spacemans helmet on an uncharted planet! My eyeballs couldve been sucked from their sockets! You actually think youre the Buzz Lightyear? Oh, all this time I thought it was an act! Hey, guys, look! Its the real Buzz Lightyear! Youre mocking me, arent you? Oh, no, no. No, no, no, no, no. Buzz, look, an alien! Where?! Yes! Whoa! Uh-oh. Its Sid! Dont move! I thought he was at summer camp. They mustve kicked him out early this year. Oh, no, not Sid! Incoming! Who is it this time? I... I cant..... I cant tell. Hey, wheres Lenny? Right here, Woody. Oh, no, I cant bear to watch one of these again. Oh, no, its a Combat Carl. Whats going on? Nothing that concerns you spacemen, just us toys. Id better take a look anyway. Why is that soldier strapped to an explosive device? Thats whySid. Hmm, sure is a hairy fella. No, no, thats Scud, you idiot. That is Sid. You mean that happy child? That aint no happy child. He tortures toys, just for fun! Well, then, weve got to do something. What are you doing? Get down from there! Im gonna teach that boy a lesson. Yeah, sure. You go ahead. Melt him with your scary laser. Be careful with that, its extremely dangerous. Hes lighting it! Hes lighting it! Hit the dirt! Look out! Yes! Hes gone! Hes history! I could have stopped him. Buzz, I would love to see you try. Course Id love to see you as a crater. The sooner we move, the better. To infinity and beyond! Oh, all this packing makes me hungry. What would you say to dinner at, uh, oh, Pizza Planet? Pizza Planet?! Oh, cool! Go wash your hands and Ill get Molly ready. Can I bring some toys? You can bring one toy. Just one? One toy? Will Andy pick me? Dont count on it?! Buzz!! Oh, Buzz, Buzz Lightyear!! Buzz Lightyear, thank goodness! Weve got trouble! Trouble? Where? Down there. Just down there. A helpless toy...its...its trapped, Buzz! Then we have no time to lose! I dont see anything. Oh, hes there. Just, just keep looking! What kind of a toy...? BUZZ! Buzz! SlinkyI dont see him in the driveway! I think he bounced into Sids yard. Oh, Buzz! Hey everyone! RCs trying to say something! What is it, boy? Hes sayin that this was no accident. Huh? What do you mean? I mean Humpty Dumpty was pushed... No! By Woody! What?! Wait a minute. You, you dont think I meant to knock Buzz out the window, do you Potato Head? Thats Mr Potato Head to you, you back-stabbing murderer! Now, it was an accident! Guys, cmon now, you...you gotta believe me. We believe you, Woody. Right, Rex? Well, ye-- n-- I dont like confrontations. Wheres your honor, dirtbag? Youre an absolute disgrace! YOU DONT DESERVE TO -- HEY!!!! You couldnt handle Buzz cuttin in on your playtime, could ya Woody? Didnt want to face the fact that Buzz just might be Andys new favorite toy, so you got rid of him! Well, what if Andy starts playin with me more, Woody, huh? You gonna knock me outta the window, too!? I dont think we should give him the chance. There he is, men! Frag him! Lets string him up by his pull string! I got dibs on his hat! Would you boys stop it?! Tackle him! No, no, no, no! Wait! Wait I can explain everything -- Andy, cmon! Okay, Mom, be right down. Ive got to get Buzz. Retreat! Mom, Do you know where Buzz is? No, I havent seen him. Psssst! Andy, Im heading out the door. But Mom, I cant find him! Well, honey, just grab some other toy. Now come on! OK. I couldnt find my Buzz. I know I left him right there. Honey, Im sure hes around. YouII find him. Its too short! We need more monkeys! There arent any more! Thats the whole barrel. Buzz! The monkeys arent working! Were formulating another plan! Stay calm! Oh, where could he be? Can I pump the gas? Sure! Ill even let you drive. Yeah? Yeah, when youre 16. Yuk, yuk, yuk. Funny, mom. Woody Oh, great. How am I gonna convince those guys it was an accident? Buzz? Buzz! Youre alive! This is great! Oh, Im saved! Im saved! Andyll find you here, hell take us back to the room, and then you can tell everyone that this was all just a big mistake. Huh, right? Buddy? I just want you to know that even though you tried to terminate me, revenge is not an idea we promote on my planet. Oh, thats good. But were not on my planet, are we? No. Okay. Come on! You want a piece of me? Ow! Next stop.. Pizza Planet! Yeah!!! Andy! Doesnt he realize that Im not there? Im lost! Oh, Im a lost toy! Buzz Lightyear Mission Log. The local sheriff, and I seem to be at a huge refueling station of some sort -- YOU! According to my nava-computer, the -- Shut up! Just shut up, you idiot! Sheriff, this is no time to panic. This is the perfect time to panic! Im lost, Andy is gone! Theyre gonna move from their house in two days and its all your fault! My... My fault?! If you hadnt pushed me out of the window in the first place...! Oh, yeah? Well, if you hadnt shown up in your stupid little cardboard spaceship and taken away everything that was important to me...! Dont tell me about importance! Because of you the security of this entire universe is in jeopardy! What?! What are you talking about? Right now, poised at the edge of the galaxy, emperor Zurg has been secretly building a weapon with the destructive capacity to annihilate an entire planet! I alone have information that reveals his weapons only weakness. And you, my friend, are responsible for delaying my rendezvous with Star Command! You... are.... a... toy!!! Youre not the real Buzz Lightyear, youre an.... youre an action figure! You are a childs play thing! You are a sad, strange little man and you have my pity. Farewell. Oh, yeah, well, good riddance you looney. Rendez-vous with Star Command. Hey, Gas Dude! You talking to me? Pizza Planet? Andy! Yeah, man, can you help me? Do you know where Cutting Blvd. is? Just a moment... Oh, no. I cant show my face in that room without Buzz. Buzz! Buzz, come back! Go away! No, Buzz, youve gotta come back! I... I found a spaceship! Its a spaceship, Buzz! Come on, man, hurry up! Um, like the pizzas are getting cold here! Now, youre sure this space freighter will return to its port of origin once it jettisons its food supply? Uh-huh. And when we get there, weII be able to find a way to transport you home. Well then, lets climb aboard. No, no, no, wait, Buzz, Buzz, lets get in the back. No one will see us there. Negative. There are no restraining harnesses in the cargo area. WeII be much safer in the cockpit. Yeah, but, Buzz! Buzz! so thats two lefts, and then a right, huh? Yeah. Okay, thanks for the directions. Buzz! But that man will see us. Its safer in the cockpit than the cargo bay. What an idiot. Next shuttle lift-off scheduled for T-minus 30 minutes and counting... You are clear to enter. Welcome to Pizza Planet. The white zone is for eating pizza only. The white zone is for... Sheriff. There you are. Now the entrance is heavily guarded. We need a way to get inside. Great idea, Woody. I like your thinking. You are clear to enter. Welcome to Pizza Planet. Now! Quickly, guys, the airlock is closing. Jones, party of fiveYour shuttle is now boarding at counter 12. Hey, Mom; Can we have some tokens? Ow! Watch where youre going! Sorry. What a space port! Good work, guys! Mom, can I play Black Hole? Please, please, please? Andy! Whats Black Hole? Oh, its so cool... Now we need to find a ship thats headed for Sector 12. Wait a minute! No Buzz! This way! Theres a special ship. I just saw it! You mean it has hyperdrive? Hyper-active hyperdrive, and astro...uh, turf. Cmon, cmon, thats it... Where is it? I dont see the -- Spaceship! Alright Buzz, get ready, and... Okay, Buzz, when I say \"go,\" were gonna jump in the basket -- Buzz! Dooh! No! This cannot be happening to me!! A stranger! From the outside! Oo-o-o-o-o-o... Greetings. I am Buzz Lightyear. I come in peace. Tell us! What is it like outside? This is an intergalactic emergency! I need to commandeer your vessel to Sector 12! Whos in charge here? The cla-a-a-a-a-a-a-a-w!! The claw is our master. The claw chooses who will go and who will stay. This is ludicrous. Hey, bozo, you got a brain in there? Ha-ha, take that! Oh, no! Sid! Get down! Whats gotten into you, Sheriff? I was -- YOU are the one that decided to climb into this -- Sh-h-h-h-h-h. The claw. It moves. I have been chosen!! Farewell, my friends! I go on to a better place. Gotcha! A Buzz Lightyear?! No way! Yes! Buzz! No! Hey! He has been chosen. He must go. Hey! What are you doing? Stop it, you --\\xa0! Stop it, you zealots! He must go! Do not fight the claw! Do not anger the claw! He has been chosen. Alright! Double prizes! Lets go home and...play. Ha-ha-ha. Sheriff, I can see your dwelling from here! Youre almost home. Nirvana is coming! The mystic portal awaits! Will you be quiet? You guys dont get it, do you? Once we go into Sids house, we wont be coming out. Whoa, Scud! Hey, boy. Sit! Good boy! Hey, I got something for you, boy. Freeze! Ready, set, now! Hannah! Hey, Hannah! What? Did I get my package in the mail? I dont know. What do you mean you dont know? I dont know. Oh, no, Hannah! What? Look! Janie! Shes sick! No shes not! Ill have to perform one of my... operations! No! Dont touch her! NO! Not Sids room! not there... Sid! Give her back! Sid! Sid! Oh, no! We have a sick patient here, nurse! Prepare the OR, stat! Sid, give her back! Give her back now! Im telling! Patient is prepped. No ones ever attempted a double bypass brain transplant before. Now for the tricky part. Pliers! I dont believe that mans ever been to medical school. Doctor, youve done it! Hannah? Janies all better now. Mom! Mom! Shes lying! Whatever she says, its not true! Were gonna die. Im outta here. Locked. Theres gotta be another way out of here. Uh, guys? W-W-Was that you? Hey! Hi, there, little fellah! Come out here. Do you know a way out of here? . A toy uses his hand to turn off the torch, promoting Woody to jump onto Buzz and cling onto him in fear] B-B-B-Buzz! Theyre cannibals. May day! May day! Come in, Star Command! Send reinforcements! Star Command, do you copy? Ive set my laser from stun to kill. Oh, great, great. Yeah, and if anyone attacks us we can blink em to death. Hey, you guys! I think Ive found him. Buzz! Is that you?! Whiskers! Will you get out of here?! Youre interfering with the search and rescue. Look! Theyre home! Mom, have you seen Woody? Where was the last place you left him? Right here in the van. Oh, Im sure hes there. Youre just not looking hard enough. Hes not here, Mom. Woodys gone. Woodys gone? Well what do you know, the weasel ran away. Huh?! Huh?! I told you he was guilty. Who wouldve thought he was capable of such atrocities?! Oh, Slink, I hope hes okay. Oh, a survivor. Where is the rebel base? Talk! I can see your will is strong. Well, we have ways of making you talk. Where are your rebel friends now? Sid, your Pop Tarts are ready. Alright! on the floor, and dunks his head in. Buzz runs over to Woody, pausing to remove two suction cup darts from his person before pulling Woody out of the bowl. Two colorful Froot-Loops stick to each of Woodys eyes like glasses] Are you alright? Im proud of you, Sheriff. A lesser man would have talked under such torture. I sure hope this isnt permanent. Still no word from Star Command. Were not that far from the spaceport -- The door! Its open! Were free!! Woody, we dont know whats out there! Ill tell you wha... Theyre gonna eat us, Buzz!! Do something! Quick! Shield your eyes! Its not working! I recharged it before I left. It should be good for hours -- Oh, you idiot! Youre a toy! Use your karate chop action! Get away! Hoo-cha! Hoo-cha! Hey!! Hey! How are you doing that? Stop that! Back! Back, you savages! Back! Woody, stop it! Sorry guys, but dinners canceled! Theres no place like home. Theres no place like home. Theres no place like home... Another stunt like that, cowboy -- youre going to get us killed. Dont tell me what to do! Shhh! Yeeeehaaaw!! Giddy-up partner!... We got to get this wagon train a movin! Split up! Calling Buzz Lightyear. Come in Buzz Lightyear. This is Star Command. Buzz Lightyear! Do you read me? Star Command! Buzz Lightyear responding! Read you loud and clear! Buzz Lightyear, Planet Earth needs your help! On the way! Buzz Lightyear! The worlds greatest superhero! Now the worlds greatest toy! Buzz has it all! Locking wrist communicator! Calling Buzz Lightyear! Karate chop action! Wow! Pulsating laserlight! Total annihilation! Multi-phrase voice simulator! Theres a secret mission in uncharted space. Theres a secret mission in uncharted space. And best of all... HIGH-PRESSURE-SPACE-WINGS!! To Infinity and Beyond! Not a flying toy. Get your Buzz Lightyear action figure and save a galaxy near you! Buzz Lightyear! Available at all Als Toy Barn outlets in the tri-county area. And welcome back to the Point Richmond Bowling Championship. You are a toy! You cant fly! To infinity and beyond! Mom. Mom, have you seen my Sally doll? What, dear? What was that? Never mind. Buzz, the coast is clear. Buzz, where are you? Theres a secret mission in uncharted space. Lets go. Really? That is so interesting. Would you like some tea, Mrs. Nesbit? Buzz. Its so nice you could join us on such late notice. Oh no. What a lovely hat, Mrs. Nesbit. It goes quite well with your head. Hannah! Oh, Hannah! Mom? Please excuse me, ladies. III be right back. What is it, Mom? Mom, where are you? Buzz! Hey, Buzz! Are you okay? Gone! Its all go-o-one! All of its gone. Bye-bye! Whoo-hoo! See ya! What happened to you? One minute youre defending the whole galaxy... ...and suddenly you find yourself suckin down Darjeeling with Marie Antoinette and her little sisters. I think youve had enough tea for today. Lets get you out of here, Buzz. Dont you all get it?! You see the hat? I am Mrs. Nesbit!! Snap out of it, Buzz! Im sorry. Youre right. Im just a little depressed thats all. I can get through this. Oh, Im a sham!! Shhhh! Quiet, Buzz! Look at me! I cant even fly out of a window! But -- the hat looked good. Tell me the hat looked good! The apron is a bit much, its not my color... Out the window! Buzz, youre a genius. Come on, this way! Years of academy training wasted! B3. Miss. G6. Ohhh! You sunk it! Heh-heh. Are you peeking? Oh, quit your whining and pay up. No, no, not the ear. Gimme the nose. Cmon! How bout three out of five? Hey guys! Guys! Hey! Son of a building block! Its Woody. Theyre in the psychos bedroom! Hi! Everyone, its Woody! Woody? Youre kidding? Woody! Were gonna get outta here, Buzz. Buzz? Hey, look! Woody! Boy, am I glad to see you guys! I knew youd come back, Woody! What are you doing over there? Its a long story, Bo. Ill explain later. Here, catch this! I got it, Woody! He got it, Woody! Good going, Slink! Now, just, just tie it on to something. Wait! Wait! I got a better idea! How about we DONT?! Hey! Potato Head. Did you all take stupid pills this morning?! Have you forgotten what he did to Buzz? And now you want to let him back over here? No, no, no! You got it all wrong, Potato Head. Yeah. Besides, Buzz is fine. Buzz is right here. Hes with me. You are a liar! No, Im not Buzz, come over here and you just tell the nice toys that youre not dead. Just a sec. Buzz, Will you get up here and give us a hand? Ha ha. Thats very funny, Buzz. This is serious!! Hey, Woody. Whered ya go? Hes lying! Buzz aint there. Oh, hi Buzz! Why dont you say \"hello\" to the guys over there? Hi ya, fellas. To infinity and beyond! Hey look! Its Buzz! Yeah, hey Buzz. Lets show the guys our new secret best-friends hand shake. Gimme five, man! Somethings screwy here. So, you see? Were friends now, guys. Arent we, Buzz? You bet. Gimme a hug. Ha, ha, oh, I love you, too. See? It is Buzz. Now give back the lights, Potato Head. Wait just a minute. What are you trying to pull? Nothing. Oh, that is disgusting! Murderer! No! No, no, no, no! You murdering dog! No, its not what you think, I swear! Save it for the jury. I hope Sid pulls your voice-box out, ya creep! No! No! Dont leave! Dont leave! Youve gotta help us, please! You dont know what its like over here! Come on. Lets get out of here. Go back to your lives, citizens. Shows over. Come back! Slink! Slink, please! Please! Listen to me! No! No! Come back! Slinky! Buzz! Go away, you disgusting freaks! Alright back! Back, you cannibals! He is still alive, and youre not gonna get him, you monsters! Hey?! Hey, they fixed you! But -- but theyre cannibals. We saw them eat those other toys. Uh...sorry. I...I thought that you were gonna... ...you know, eat my friend. Hey! No, no, wait! Hey! Whats wrong? Sid? Not now, Mom, Im BUSY! Sid!!! You left the door open! Buzz! Cmon, get up! Use your legs! Hannah left it open! Fine. Let Sid trash you. But dont blame me. It came! It finally came! The big one. \"Extremely dangerous. Keep out of reach of children.\" COOL... What am I gonna blow? Man...hey, wheres that wimpy cowboy doll? Yes! Ive always wanted to put a spaceman into orbit. Ha-ha. Oh, no... Aw, man! Sid Phillips reporting. Launch of the shuttle has been delayed due to adverse weather conditions at the launch site. Tomorrows forecast... Sunny. Ha-ha-ha. Sweet dreams. I looked everywhere, honey, but all I could find was your hat. But what if we leave them behind? Oh, dont worry, honey, Im sure well find Woody and Buzz before we leave tomorrow. Aaaah! I need air! Aa-a-a-a-ah! Will you quit moving around?! Im sorry. Its just that I get so nervous before I travel. How did I get stuck with YOU as a moving buddy? Everyone else was picked. Oh, Woody, if only you could see how much Andy misses you. Ps-s-s-s-t! Psst! Hey, Buzz! Hey! Get over here and see if you can get this tool box off me. Oh, come on, Buzz. I...Buzz, we cant do this without you. We need your help. I cant help. I cant help anyone. Why, sure you can, Buzz. You can get us out of here and then Ill get that rocket off you, and well make a break for Andys house. Andys house. Sids house. Whats the difference? Oh, Buzz, youve had a big fall. You must not be thinking clearly. No, Woody, for the first time I am thinking clearly. You were right all along. Im not a Space Ranger. Im just a toy. A stupid little insignificant toy. Woah hey. Being a toy is a lot better than being a, a Space Ranger. Yeah, right. No, it is. Look, over in that house is a kid who thinks you are the greatest, and its not because youre a Space Ranger, pal, its because youre a toy. You are his toy. But why would Andy want me? Why would Andy want you?! Look at you! Youre a Buzz Lightyear. Any other toy would give up his moving parts just to be you. Youve got wings, you glow in the dark, you talk, your helmet does that -- that whoosh thing -- you are a COOL toy. As a matter of fact youre too cool. I mean -- I mean what chance does a toy like me have against a Buzz Lightyear action figure? All I can do is... Theres a snake in my boots. Why would Andy ever want to play with me, when hes got you? Im the one that should be strapped to that rocket. Listen, Buzz, forget about us. You should get outta here while you can. Buzz!! What are you doing? We thought you were -- Come on, Sheriff. Theres a kid over in that house who needs us. Now lets get you out of this thing. Yes, sir! Come on, Buzz! We can do it! Woody! Its the moving van. Weve got to get out of here... NOW. Cmon, Buzz. Alright! Buzz! Hey! Im out!f farther out] Almost there! I wanna ride the pony... Woody? Are you alright?! No, im fine. im OK. Oh, yeah! Time for lift-off! To infinity and beyond! Whoo-hoo! Aaah! Back! Back! Down! Down! Okay, what do I do? Come on Woody, think! Guys! No, no, no! Wait! Wait! Listen! Please! Theres a good toy down there and hes -- hes going to be blown to bits in a few minutes all because of me. Ive gotta save him! -- But I need your help. Please. Hes my friend. Hes the only one Ive got. Thank you. Okay. I think I know what to do. Were going to have to break a few rules, but if it works, itll help everybody. Houston to Mission Control. Come in, Control. Launch pad is being constructed! Heh-heh. All right, listen up. I need Pump Boy here -- Ducky here. Legs? Youre with Ducky. RollerBob and I dont move till we get the signal. Clear? OK. Lets move! Wind the frog. Wait for the signal. Go! Alright, lets go. Now! Im coming. Im coming. Ducky, someones coming! Freeze! Scud! Stupid dog! Lean back! [The mutants push back, causing RollerBob to do a wheelie and they fly through the dog door and catapult into the bushes. Uh, Mission Control...is the launchpad construction complete? Uh, Roger, rocket is now secured to guide wire. We are currently obtaining the...ignition sticks. Countdown will commence momentarily. Stand by -- Lets go. Hey, Mom?! Where are the matches? Oh, oh, wait, here they are. Nevermind... Woody?! Great! Help me out of this thing! Shhh! What? Its OK. Everythings under control. Woody?! What are you doing?! Houston, all systems are go. Requesting permission to launch -- Hey! Howd you get out here? Oh, well, you and I can have a cookout later. Ha-ha-ha... Houston, do we have permission to launch? -- Uh, Roger, permission granted. You are confirmed at T minus 10 seconds... ...and counting. Ten! Nine! Eight! Seven! Six! Five! Four! Three! Two!... One!... Reach for the sky. Huh? This town aint big enough for the two of us! What? Somebodys poisoned the water hole... Its busted. Who are you callin busted, Buster?! Thats right. Im talking to YOU, Sid Phillips. We dont like being blown up, Sid, or smashed, or ripped apart... W-w-w-we? Thats right. Your toys. From now on, you must take good care of your toys! Because if you dont, well find out, Sid. We toys can see everything. So play nice. AAAAAAAGGGGGGHHHHHH!!!!! Ha-ha! We did it! We did it! YES!!! The toys! The toys are alive! N-N-Nice toy... Whats wrong, Sid?! Dont you want to play with Sally?! Nice work, fellahs. Good job. Comin out of the ground -- what a touch! That was a stroke of genius. Woody. Thanks. Everybody say, \"Bye, house.\" Woody! The van! Bye, house. We gotta run! Thanks, guys. Quick! Just go! Ill catch up! Aaaah! Come on! You can do it, Woody! Whew, I made it! Aaaaaah! Get away, you stupid dog! Down! Down! Hold on, Woody! I cant do it! Take care of Andy for me! No! Buzz! What? Are we there already? Woody! Woody?! Howd you -- How did you -- Whats going on? Whats he taking? Ah-hah! There you are!! Hey! Whats he doing? Hes at it again! Get him! Ah-h!! Ah-h! No, no! No, no, no! Wait! Whoa-Whoa-Whoa...! Whoa-Whoa-Whoa...! Pig pile!! Aaaah! Get out of that car! Move it! above his head and walk towards the open door] No! Wait! You Don’t Understand! Buzz is out there! Weve gotta help him!! Toss him overboard! No, no, no, wait! Ah! Hooray! So long Woody! Who-o-o-oa! Woody! Well, thanks for the ride. Look out!! Now lets catch up to that truck! [He flick the switch from ON to TURBO and RC speeds up towards the moving truck. Guys! Guys! Woody riding RC! And Buzz is with them! What?!!! It is Buzz! Woody, were telling the truth! What have we done?! Great. Now I have guilt. Were almost there. Rocky, the ramp! Look out!! Quick! Hold on to my tail! That a boy, Slink!! Woody!! Woody! Speed up! Speed up! The batteries! Theyre running out! Whoa! Whoa! Whoa! I cant hold on much longer! Slink! Hang on! Aaaaaaah! Ouch! Great! Woody! The rocket! The match! Yes! Thank you, Sid! No-o-o! No-no-no-no! No-o-o! Woody?! What are you doing? Hold still, Buzz! Ha-ha!! You did it! Next stop. Andy. Wait a minute...I just lit a rocket. Rockets explode -- I shoulda held on longer. Look! Look! Its Woody and Buzz! Comin up fast! Woody! Take cover!! Ahhh!! This is the part where we blow up! Not today! Ah-h-h-h-h! Hey, Buzz!! Youre flying!! This isnt flying. This is falling -- with style! Ha ha!! To Infinity and Beyond!! Uh, Buzz?! We missed the truck! Were not aiming for the truck! Hey! Wow! What? What is it? Woody! Buzz! Oh, great, you found them. Where were they? Here! In the car! See? Now, what did I tell you? Right where you left them. Which one can I open first? Lets let Molly open one. Frankincense, this is Myrrh. Come in, Frankincense. Hey, heads up everybody! Its showtime. Oh! Its time! Whoooooah! Oh! Bo! Theres gotta be a less painful way to get my attention. Merry Christmas, Sheriff. Say, isnt that mistletoe? Mm-hmmmmm. Maybe Andyll get another dinosaur, like a leaf-eater. That way, I could play the, uh, dominant predator. Ha ha ha! Quiet everyone, quiet! Mollys first present is... Mrs. Potato Head. Repeat. Mrs. Potato Head. Way to go, Idaho! Gee, I better shave. Come in, Frankincense. Andy is now opening his first present -- Buzz. Buzz Lightyear. You are not worried, are you? I cant quite make out -- Me? No, no, no, no... Mm-mmm. Are you? Now Buzz, what could Andy possibly get that is worse than you?! Oh, what is it? What is it? Wow! A puppy! '"
      ]
     },
     "execution_count": 19,
     "metadata": {},
     "output_type": "execute_result"
    }
   ],
   "source": [
    "# Validating if each script is correct \n",
    "df_scripts['Script']['Toy_Story']"
   ]
  },
  {
   "cell_type": "code",
   "execution_count": 22,
   "id": "b9c3c9e9",
   "metadata": {},
   "outputs": [
    {
     "name": "stderr",
     "output_type": "stream",
     "text": [
      "c:\\Users\\jason\\AppData\\Local\\Programs\\Python\\Python311\\Lib\\site-packages\\sklearn\\utils\\deprecation.py:87: FutureWarning: Function get_feature_names is deprecated; get_feature_names is deprecated in 1.0 and will be removed in 1.2. Please use get_feature_names_out instead.\n",
      "  warnings.warn(msg, category=FutureWarning)\n"
     ]
    },
    {
     "data": {
      "text/html": [
       "<div>\n",
       "<style scoped>\n",
       "    .dataframe tbody tr th:only-of-type {\n",
       "        vertical-align: middle;\n",
       "    }\n",
       "\n",
       "    .dataframe tbody tr th {\n",
       "        vertical-align: top;\n",
       "    }\n",
       "\n",
       "    .dataframe thead th {\n",
       "        text-align: right;\n",
       "    }\n",
       "</style>\n",
       "<table border=\"1\" class=\"dataframe\">\n",
       "  <thead>\n",
       "    <tr style=\"text-align: right;\">\n",
       "      <th></th>\n",
       "      <th>10</th>\n",
       "      <th>12</th>\n",
       "      <th>1225</th>\n",
       "      <th>15</th>\n",
       "      <th>16</th>\n",
       "      <th>17</th>\n",
       "      <th>19</th>\n",
       "      <th>1967</th>\n",
       "      <th>1995</th>\n",
       "      <th>20</th>\n",
       "      <th>...</th>\n",
       "      <th>yoyo</th>\n",
       "      <th>yuk</th>\n",
       "      <th>yup</th>\n",
       "      <th>zealots</th>\n",
       "      <th>zero</th>\n",
       "      <th>zip</th>\n",
       "      <th>zone</th>\n",
       "      <th>zoo</th>\n",
       "      <th>zurg</th>\n",
       "      <th>zurgs</th>\n",
       "    </tr>\n",
       "  </thead>\n",
       "  <tbody>\n",
       "    <tr>\n",
       "      <th>Toy_Story</th>\n",
       "      <td>1</td>\n",
       "      <td>4</td>\n",
       "      <td>0</td>\n",
       "      <td>0</td>\n",
       "      <td>1</td>\n",
       "      <td>0</td>\n",
       "      <td>0</td>\n",
       "      <td>0</td>\n",
       "      <td>0</td>\n",
       "      <td>0</td>\n",
       "      <td>...</td>\n",
       "      <td>0</td>\n",
       "      <td>3</td>\n",
       "      <td>0</td>\n",
       "      <td>1</td>\n",
       "      <td>0</td>\n",
       "      <td>0</td>\n",
       "      <td>2</td>\n",
       "      <td>0</td>\n",
       "      <td>3</td>\n",
       "      <td>0</td>\n",
       "    </tr>\n",
       "    <tr>\n",
       "      <th>Toy_Story_2</th>\n",
       "      <td>0</td>\n",
       "      <td>0</td>\n",
       "      <td>0</td>\n",
       "      <td>1</td>\n",
       "      <td>1</td>\n",
       "      <td>0</td>\n",
       "      <td>2</td>\n",
       "      <td>1</td>\n",
       "      <td>1</td>\n",
       "      <td>0</td>\n",
       "      <td>...</td>\n",
       "      <td>1</td>\n",
       "      <td>0</td>\n",
       "      <td>0</td>\n",
       "      <td>0</td>\n",
       "      <td>1</td>\n",
       "      <td>0</td>\n",
       "      <td>2</td>\n",
       "      <td>1</td>\n",
       "      <td>11</td>\n",
       "      <td>4</td>\n",
       "    </tr>\n",
       "    <tr>\n",
       "      <th>Toy_Story_3</th>\n",
       "      <td>1</td>\n",
       "      <td>0</td>\n",
       "      <td>2</td>\n",
       "      <td>0</td>\n",
       "      <td>0</td>\n",
       "      <td>1</td>\n",
       "      <td>0</td>\n",
       "      <td>1</td>\n",
       "      <td>0</td>\n",
       "      <td>0</td>\n",
       "      <td>...</td>\n",
       "      <td>0</td>\n",
       "      <td>0</td>\n",
       "      <td>0</td>\n",
       "      <td>0</td>\n",
       "      <td>0</td>\n",
       "      <td>1</td>\n",
       "      <td>0</td>\n",
       "      <td>0</td>\n",
       "      <td>4</td>\n",
       "      <td>0</td>\n",
       "    </tr>\n",
       "    <tr>\n",
       "      <th>Toy_Story_4</th>\n",
       "      <td>2</td>\n",
       "      <td>0</td>\n",
       "      <td>0</td>\n",
       "      <td>0</td>\n",
       "      <td>0</td>\n",
       "      <td>0</td>\n",
       "      <td>0</td>\n",
       "      <td>0</td>\n",
       "      <td>0</td>\n",
       "      <td>1</td>\n",
       "      <td>...</td>\n",
       "      <td>0</td>\n",
       "      <td>0</td>\n",
       "      <td>1</td>\n",
       "      <td>0</td>\n",
       "      <td>0</td>\n",
       "      <td>0</td>\n",
       "      <td>0</td>\n",
       "      <td>0</td>\n",
       "      <td>0</td>\n",
       "      <td>0</td>\n",
       "    </tr>\n",
       "  </tbody>\n",
       "</table>\n",
       "<p>4 rows × 3219 columns</p>\n",
       "</div>"
      ],
      "text/plain": [
       "             10  12  1225  15  16  17  19  1967  1995  20  ...  yoyo  yuk  \\\n",
       "Toy_Story     1   4     0   0   1   0   0     0     0   0  ...     0    3   \n",
       "Toy_Story_2   0   0     0   1   1   0   2     1     1   0  ...     1    0   \n",
       "Toy_Story_3   1   0     2   0   0   1   0     1     0   0  ...     0    0   \n",
       "Toy_Story_4   2   0     0   0   0   0   0     0     0   1  ...     0    0   \n",
       "\n",
       "             yup  zealots  zero  zip  zone  zoo  zurg  zurgs  \n",
       "Toy_Story      0        1     0    0     2    0     3      0  \n",
       "Toy_Story_2    0        0     1    0     2    1    11      4  \n",
       "Toy_Story_3    0        0     0    1     0    0     4      0  \n",
       "Toy_Story_4    1        0     0    0     0    0     0      0  \n",
       "\n",
       "[4 rows x 3219 columns]"
      ]
     },
     "execution_count": 22,
     "metadata": {},
     "output_type": "execute_result"
    }
   ],
   "source": [
    " # We are going to create a document-term matrix using CountVectorizer, and exclude common English stop words\n",
    "from sklearn.feature_extraction.text import CountVectorizer\n",
    "\n",
    "cv = CountVectorizer(stop_words='english')\n",
    "data_cv = cv.fit_transform(df_scripts.Script)\n",
    "data_dtm = pd.DataFrame(data_cv.toarray(), columns=cv.get_feature_names())\n",
    "data_dtm.index = df_scripts.index\n",
    "data_dtm"
   ]
  },
  {
   "cell_type": "markdown",
   "id": "a6ce4053",
   "metadata": {},
   "source": [
    "## Using the Document Term Matrix above we can do some basic investigation into seeing how often each character is mentioned in each movie.\n",
    "\n",
    "So lets do a mini investigation to see how often some main characters are mentioned in each movie. "
   ]
  },
  {
   "cell_type": "code",
   "execution_count": 23,
   "id": "e010a9ed",
   "metadata": {},
   "outputs": [
    {
     "data": {
      "text/html": [
       "<div>\n",
       "<style scoped>\n",
       "    .dataframe tbody tr th:only-of-type {\n",
       "        vertical-align: middle;\n",
       "    }\n",
       "\n",
       "    .dataframe tbody tr th {\n",
       "        vertical-align: top;\n",
       "    }\n",
       "\n",
       "    .dataframe thead th {\n",
       "        text-align: right;\n",
       "    }\n",
       "</style>\n",
       "<table border=\"1\" class=\"dataframe\">\n",
       "  <thead>\n",
       "    <tr style=\"text-align: right;\">\n",
       "      <th></th>\n",
       "      <th>Toy Story</th>\n",
       "      <th>Toy Story 2</th>\n",
       "      <th>Toy Story 3</th>\n",
       "      <th>Toy Story 4</th>\n",
       "    </tr>\n",
       "  </thead>\n",
       "  <tbody>\n",
       "    <tr>\n",
       "      <th>woody</th>\n",
       "      <td>67</td>\n",
       "      <td>90</td>\n",
       "      <td>53</td>\n",
       "      <td>77</td>\n",
       "    </tr>\n",
       "    <tr>\n",
       "      <th>lightyear</th>\n",
       "      <td>28</td>\n",
       "      <td>19</td>\n",
       "      <td>13</td>\n",
       "      <td>5</td>\n",
       "    </tr>\n",
       "    <tr>\n",
       "      <th>bo</th>\n",
       "      <td>4</td>\n",
       "      <td>2</td>\n",
       "      <td>2</td>\n",
       "      <td>63</td>\n",
       "    </tr>\n",
       "    <tr>\n",
       "      <th>jessie</th>\n",
       "      <td>0</td>\n",
       "      <td>19</td>\n",
       "      <td>8</td>\n",
       "      <td>9</td>\n",
       "    </tr>\n",
       "    <tr>\n",
       "      <th>gabby</th>\n",
       "      <td>0</td>\n",
       "      <td>0</td>\n",
       "      <td>0</td>\n",
       "      <td>27</td>\n",
       "    </tr>\n",
       "    <tr>\n",
       "      <th>forky</th>\n",
       "      <td>0</td>\n",
       "      <td>0</td>\n",
       "      <td>0</td>\n",
       "      <td>63</td>\n",
       "    </tr>\n",
       "    <tr>\n",
       "      <th>lotso</th>\n",
       "      <td>0</td>\n",
       "      <td>0</td>\n",
       "      <td>32</td>\n",
       "      <td>0</td>\n",
       "    </tr>\n",
       "  </tbody>\n",
       "</table>\n",
       "</div>"
      ],
      "text/plain": [
       "           Toy Story  Toy Story 2  Toy Story 3  Toy Story 4\n",
       "woody             67           90           53           77\n",
       "lightyear         28           19           13            5\n",
       "bo                 4            2            2           63\n",
       "jessie             0           19            8            9\n",
       "gabby              0            0            0           27\n",
       "forky              0            0            0           63\n",
       "lotso              0            0           32            0"
      ]
     },
     "execution_count": 23,
     "metadata": {},
     "output_type": "execute_result"
    }
   ],
   "source": [
    "char_appear_dict = {'woody':[], 'lightyear':[], 'bo':[], 'jessie':[], 'gabby':[], 'forky':[], 'lotso':[]}\n",
    "\n",
    "for key in char_appear_dict:\n",
    "    # Getting the list of how often a character appears for each movie\n",
    "    apperance_list = data_dtm.loc[:,key].tolist()\n",
    "    # Save it into the dictionary\n",
    "    char_appear_dict[key] = apperance_list\n",
    "    \n",
    "df_char_appear = pd.DataFrame.from_dict(char_appear_dict, orient ='index')\n",
    "df_char_appear.columns = movie_names\n",
    "df_char_appear"
   ]
  },
  {
   "cell_type": "code",
   "execution_count": 30,
   "id": "0d62a983",
   "metadata": {},
   "outputs": [
    {
     "data": {
      "text/html": [
       "<div>\n",
       "<style scoped>\n",
       "    .dataframe tbody tr th:only-of-type {\n",
       "        vertical-align: middle;\n",
       "    }\n",
       "\n",
       "    .dataframe tbody tr th {\n",
       "        vertical-align: top;\n",
       "    }\n",
       "\n",
       "    .dataframe thead th {\n",
       "        text-align: right;\n",
       "    }\n",
       "</style>\n",
       "<table border=\"1\" class=\"dataframe\">\n",
       "  <thead>\n",
       "    <tr style=\"text-align: right;\">\n",
       "      <th></th>\n",
       "      <th>Toy Story</th>\n",
       "    </tr>\n",
       "  </thead>\n",
       "  <tbody>\n",
       "    <tr>\n",
       "      <th>woody</th>\n",
       "      <td>67</td>\n",
       "    </tr>\n",
       "    <tr>\n",
       "      <th>lightyear</th>\n",
       "      <td>28</td>\n",
       "    </tr>\n",
       "    <tr>\n",
       "      <th>bo</th>\n",
       "      <td>4</td>\n",
       "    </tr>\n",
       "    <tr>\n",
       "      <th>jessie</th>\n",
       "      <td>0</td>\n",
       "    </tr>\n",
       "    <tr>\n",
       "      <th>gabby</th>\n",
       "      <td>0</td>\n",
       "    </tr>\n",
       "    <tr>\n",
       "      <th>forky</th>\n",
       "      <td>0</td>\n",
       "    </tr>\n",
       "    <tr>\n",
       "      <th>lotso</th>\n",
       "      <td>0</td>\n",
       "    </tr>\n",
       "  </tbody>\n",
       "</table>\n",
       "</div>"
      ],
      "text/plain": [
       "           Toy Story\n",
       "woody             67\n",
       "lightyear         28\n",
       "bo                 4\n",
       "jessie             0\n",
       "gabby              0\n",
       "forky              0\n",
       "lotso              0"
      ]
     },
     "execution_count": 30,
     "metadata": {},
     "output_type": "execute_result"
    }
   ],
   "source": [
    "df_testing = df_char_appear.filter(items=['Toy Story'])\n",
    "df_testing"
   ]
  },
  {
   "cell_type": "code",
   "execution_count": 26,
   "id": "81d6dec0",
   "metadata": {},
   "outputs": [],
   "source": [
    "char_names_axis = list(char_appear_dict.keys())\n",
    "# char_names_axis = list(map(lambda x: x.capitalize(), char_names))"
   ]
  },
  {
   "cell_type": "code",
   "execution_count": 32,
   "id": "6c66a9df",
   "metadata": {},
   "outputs": [
    {
     "data": {
      "text/plain": [
       "<AxesSubplot: >"
      ]
     },
     "execution_count": 32,
     "metadata": {},
     "output_type": "execute_result"
    },
    {
     "data": {
      "image/png": "[encoded data removed]",
      "text/plain": [
       "<Figure size 640x480 with 1 Axes>"
      ]
     },
     "metadata": {},
     "output_type": "display_data"
    }
   ],
   "source": [
    "\n",
    "df_testing.plot(kind=\"bar\")"
   ]
  }
 ],
 "metadata": {
  "kernelspec": {
   "display_name": "Python 3.11.0 64-bit",
   "language": "python",
   "name": "python3"
  },
  "language_info": {
   "codemirror_mode": {
    "name": "ipython",
    "version": 3
   },
   "file_extension": ".py",
   "mimetype": "text/x-python",
   "name": "python",
   "nbconvert_exporter": "python",
   "pygments_lexer": "ipython3",
   "version": "3.11.0"
  },
  "vscode": {
   "interpreter": {
    "hash": "3c2a30d65e0f3d1a47fff58600157085b205bb14f3ba77bfb6400725604345b1"
   }
  }
 },
 "nbformat": 4,
 "nbformat_minor": 5
}
